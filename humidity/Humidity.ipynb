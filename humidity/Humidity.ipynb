{
  "nbformat": 4,
  "nbformat_minor": 0,
  "metadata": {
    "colab": {
      "name": "Humidity.ipynb",
      "provenance": [],
      "collapsed_sections": [],
      "authorship_tag": "ABX9TyMIKPgybnBzBqNsYF82JvCB",
      "include_colab_link": true
    },
    "kernelspec": {
      "name": "python3",
      "display_name": "Python 3"
    }
  },
  "cells": [
    {
      "cell_type": "markdown",
      "metadata": {
        "id": "view-in-github",
        "colab_type": "text"
      },
      "source": [
        "<a href=\"https://colab.research.google.com/github/m1key/raspberry-pi/blob/master/humidity/Humidity.ipynb\" target=\"_parent\"><img src=\"https://colab.research.google.com/assets/colab-badge.svg\" alt=\"Open In Colab\"/></a>"
      ]
    },
    {
      "cell_type": "code",
      "metadata": {
        "id": "m6nTX-akrnuE",
        "colab_type": "code",
        "colab": {
          "base_uri": "https://localhost:8080/",
          "height": 266
        },
        "outputId": "83159eae-d7f9-4be5-8ec9-c08fd8afd940"
      },
      "source": [
        "import pandas as pd\n",
        "from io import StringIO\n",
        "\n",
        "TESTDATA = StringIO(\"\"\"\n",
        "    2020-03-27 18:00:11,32.00,22.00\n",
        "    2020-03-28 18:00:11,40.00,22.00\n",
        "    2020-03-29 18:00:11,39.00,22.00\n",
        "    2020-03-29 19:20:10,140.00,21.00\n",
        "    2020-03-29 20:00:11,41.00,22.00\n",
        "    2020-03-30 01:20:15,20.00,29.00\n",
        "    2020-04-01 14:10:19,31.00,23.00\n",
        "    2020-04-02 13:10:19,11.00,23.00\n",
        "    \"\"\")\n",
        "\n",
        "df = pd.read_csv(TESTDATA, sep=\",\", names=['datetime', 'humidity', 'temperature'])\n",
        "df = df[df.humidity < 100]\n",
        "df = df[df.humidity > 0]\n",
        "\n",
        "df['datetime'] = pd.to_datetime(df['datetime'])\n",
        "df = df.set_index('datetime')\n",
        "df = df.groupby(pd.Grouper(freq=\"24h\")).mean()\n",
        "df = df.reset_index()\n",
        "df['healthy_min'] = 30\n",
        "df['healthy_max'] = 50\n",
        "df"
      ],
      "execution_count": 47,
      "outputs": [
        {
          "output_type": "execute_result",
          "data": {
            "text/html": [
              "<div>\n",
              "<style scoped>\n",
              "    .dataframe tbody tr th:only-of-type {\n",
              "        vertical-align: middle;\n",
              "    }\n",
              "\n",
              "    .dataframe tbody tr th {\n",
              "        vertical-align: top;\n",
              "    }\n",
              "\n",
              "    .dataframe thead th {\n",
              "        text-align: right;\n",
              "    }\n",
              "</style>\n",
              "<table border=\"1\" class=\"dataframe\">\n",
              "  <thead>\n",
              "    <tr style=\"text-align: right;\">\n",
              "      <th></th>\n",
              "      <th>datetime</th>\n",
              "      <th>humidity</th>\n",
              "      <th>temperature</th>\n",
              "      <th>healthy_min</th>\n",
              "      <th>healthy_max</th>\n",
              "    </tr>\n",
              "  </thead>\n",
              "  <tbody>\n",
              "    <tr>\n",
              "      <th>0</th>\n",
              "      <td>2020-03-27</td>\n",
              "      <td>32.0</td>\n",
              "      <td>22.0</td>\n",
              "      <td>30</td>\n",
              "      <td>50</td>\n",
              "    </tr>\n",
              "    <tr>\n",
              "      <th>1</th>\n",
              "      <td>2020-03-28</td>\n",
              "      <td>40.0</td>\n",
              "      <td>22.0</td>\n",
              "      <td>30</td>\n",
              "      <td>50</td>\n",
              "    </tr>\n",
              "    <tr>\n",
              "      <th>2</th>\n",
              "      <td>2020-03-29</td>\n",
              "      <td>40.0</td>\n",
              "      <td>22.0</td>\n",
              "      <td>30</td>\n",
              "      <td>50</td>\n",
              "    </tr>\n",
              "    <tr>\n",
              "      <th>3</th>\n",
              "      <td>2020-03-30</td>\n",
              "      <td>20.0</td>\n",
              "      <td>29.0</td>\n",
              "      <td>30</td>\n",
              "      <td>50</td>\n",
              "    </tr>\n",
              "    <tr>\n",
              "      <th>4</th>\n",
              "      <td>2020-03-31</td>\n",
              "      <td>NaN</td>\n",
              "      <td>NaN</td>\n",
              "      <td>30</td>\n",
              "      <td>50</td>\n",
              "    </tr>\n",
              "    <tr>\n",
              "      <th>5</th>\n",
              "      <td>2020-04-01</td>\n",
              "      <td>31.0</td>\n",
              "      <td>23.0</td>\n",
              "      <td>30</td>\n",
              "      <td>50</td>\n",
              "    </tr>\n",
              "    <tr>\n",
              "      <th>6</th>\n",
              "      <td>2020-04-02</td>\n",
              "      <td>11.0</td>\n",
              "      <td>23.0</td>\n",
              "      <td>30</td>\n",
              "      <td>50</td>\n",
              "    </tr>\n",
              "  </tbody>\n",
              "</table>\n",
              "</div>"
            ],
            "text/plain": [
              "    datetime  humidity  temperature  healthy_min  healthy_max\n",
              "0 2020-03-27      32.0         22.0           30           50\n",
              "1 2020-03-28      40.0         22.0           30           50\n",
              "2 2020-03-29      40.0         22.0           30           50\n",
              "3 2020-03-30      20.0         29.0           30           50\n",
              "4 2020-03-31       NaN          NaN           30           50\n",
              "5 2020-04-01      31.0         23.0           30           50\n",
              "6 2020-04-02      11.0         23.0           30           50"
            ]
          },
          "metadata": {
            "tags": []
          },
          "execution_count": 47
        }
      ]
    },
    {
      "cell_type": "code",
      "metadata": {
        "id": "Pods_yLNrjDR",
        "colab_type": "code",
        "colab": {
          "base_uri": "https://localhost:8080/",
          "height": 319
        },
        "outputId": "905b07da-ecc0-430f-de11-d9f6599945bb"
      },
      "source": [
        "import matplotlib.pyplot as plt\n",
        "\n",
        "ax = plt.gca()\n",
        "\n",
        "df.plot(x ='datetime', y='humidity', linestyle='dotted', color=\"b\", linewidth=3, ax=ax)\n",
        "df.plot(x ='datetime', y='healthy_min', linestyle='solid', color=\"g\", linewidth=1.0, ax=ax)\n",
        "df.plot(x ='datetime', y='healthy_max', linestyle='solid', color=\"r\", linewidth=0.5, ax=ax)\n",
        "\n",
        "plt.title('Humidity over Time')\n",
        "plt.xlabel('Days')\n",
        "plt.ylabel('Humidity %')\n",
        "plt.legend()\n",
        "plt.ylim(0, 100)\n",
        "\n",
        "ax.spines['right'].set_visible(False)\n",
        "ax.spines['top'].set_visible(False)\n",
        "\n",
        "plt.fill_between(df['datetime'].values, df['healthy_min'], df['healthy_max'],\n",
        "                where=df['healthy_max'] >= df['healthy_min'],\n",
        "                facecolor='green', alpha=0.1)\n",
        "\n",
        "plt.show()"
      ],
      "execution_count": 75,
      "outputs": [
        {
          "output_type": "display_data",
          "data": {
            "image/png": "[encoded data removed]",
            "text/plain": [
              "<Figure size 432x288 with 1 Axes>"
            ]
          },
          "metadata": {
            "tags": []
          }
        }
      ]
    }
  ]
}